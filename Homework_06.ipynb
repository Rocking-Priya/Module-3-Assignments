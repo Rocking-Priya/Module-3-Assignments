{
  "cells": [
    {
      "cell_type": "markdown",
      "metadata": {
        "id": "d-BOAOwMMtWF"
      },
      "source": [
        "# Homework 06: Decision Trees\n",
        "\n",
        "So far in this module, we have built a solid foundation in machine learning by focusing on linear regression and addressing a key challenge—the **model selection problem.** We have learned how to choose the right model, measure its performance, and fine-tune its parameters so that the model generalizes well to new data.\n",
        "\n",
        "This week, we turn our attention to a fundamentally different model: **decision trees.** Unlike regression models, where we typically adjust at most one key parameter (for example, the degree of a polynomial), decision trees have many interacting parameters that can significantly affect performance. As we move from simpler models to more complex ones, it becomes essential to develop a **systematic workflow** for exploring the parameter space and optimizing model performance.\n",
        "\n",
        "Next week, we will build on this foundation by studying **ensemble methods,** where multiple trees work together to produce even stronger predictive models. These methods will incorporate the parameters we explore this week, along with additional ones, offering even more flexibility in tuning but raising even more challenges in your workflow.\n",
        "\n",
        "### What We Will Do in This Homework\n",
        "\n",
        "To identify the best set of parameters for a model with many adjustable settings, there are two main approaches. You can either iterate through the parameters **manually** or use **automated search tools** such as grid search or random search. However, both methods have drawbacks. Manual iteration is time-consuming and exhausting, while automated searches can provide little insight and may not cover the most promising ranges. Exhaustively searching a huge parameter space is often unrealistic.\n",
        "\n",
        "For these reasons, we will employ a two-phase strategy:\n",
        "\n",
        "- **First Phase:** Visualize the effect of the most important parameters by plotting and calculating the minimal CV RMSE scores. Adjust the range of the plots to understand how each parameter behaves on its own or in combination with closely related parameters. This phase provides valuable insights, especially in identifying regions where performance is unstable or sensitive to parameter changes.\n",
        "- **Second Phase:** Focus on the most unstable parameter ranges identified in the first phase and perform an exhaustive search within these ranges to find the optimal model configuration.\n",
        "\n",
        "The homework is divided into four problems. The first three problems cover the first phase, and the fourth problem addresses the second phase:\n",
        "\n",
        "- **Problem One:** Tune the size and shape of the decision tree by adjusting `max_depth` and `max_leaf_nodes`.\n",
        "- **Problem Two:** Explore how the `max_features` parameter can improve performance by effectively performing on-the-fly feature selection during node splits.\n",
        "- **Problem Three:** Examine how `min_samples_split` influences performance by modifying the criteria for splitting nodes.\n",
        "- **Problem Four:** Based on the insights gained, use `GridSearchCV` to zero in on the best parameter choices.\n",
        "\n",
        "Before starting this homework, please review the lesson materials, watch the video, and download the decision tree notebook. This notebook contains code that you will refactor for this assignment—**refactoring existing code is an essential skill in machine learning.**\n",
        "\n",
        "**Note:** One significant change in this homework compared to previous notebooks is the use of `RepeatedKFold` to reduce the variance of our CV MSE scoring. Further details will be provided below.\n",
        "\n",
        "### Grading\n",
        "\n",
        "This homework has eight (8) graded problems, each worth 6 points, and you get 2 points free."
      ]
    },
    {
      "cell_type": "code",
      "execution_count": 1,
      "metadata": {
        "id": "XiZ4A-08MtWI",
        "outputId": "c17f5efc-6f70-4ea3-85d1-689363b52cd6",
        "colab": {
          "base_uri": "https://localhost:8080/"
        }
      },
      "outputs": [
        {
          "output_type": "stream",
          "name": "stdout",
          "text": [
            "Requirement already satisfied: kagglehub in /usr/local/lib/python3.11/dist-packages (0.3.9)\n",
            "Requirement already satisfied: packaging in /usr/local/lib/python3.11/dist-packages (from kagglehub) (24.2)\n",
            "Requirement already satisfied: pyyaml in /usr/local/lib/python3.11/dist-packages (from kagglehub) (6.0.2)\n",
            "Requirement already satisfied: requests in /usr/local/lib/python3.11/dist-packages (from kagglehub) (2.32.3)\n",
            "Requirement already satisfied: tqdm in /usr/local/lib/python3.11/dist-packages (from kagglehub) (4.67.1)\n",
            "Requirement already satisfied: charset-normalizer<4,>=2 in /usr/local/lib/python3.11/dist-packages (from requests->kagglehub) (3.4.1)\n",
            "Requirement already satisfied: idna<4,>=2.5 in /usr/local/lib/python3.11/dist-packages (from requests->kagglehub) (3.10)\n",
            "Requirement already satisfied: urllib3<3,>=1.21.1 in /usr/local/lib/python3.11/dist-packages (from requests->kagglehub) (2.3.0)\n",
            "Requirement already satisfied: certifi>=2017.4.17 in /usr/local/lib/python3.11/dist-packages (from requests->kagglehub) (2025.1.31)\n"
          ]
        }
      ],
      "source": [
        "pip install kagglehub"
      ]
    },
    {
      "cell_type": "code",
      "execution_count": 2,
      "metadata": {
        "id": "Pmn__qUDMtWK"
      },
      "outputs": [],
      "source": [
        "# Useful imports\n",
        "\n",
        "import os\n",
        "import kagglehub\n",
        "import pandas as pd\n",
        "import numpy as np\n",
        "import matplotlib.pyplot as plt\n",
        "import requests\n",
        "import io\n",
        "import zipfile\n",
        "import time\n",
        "\n",
        "from sklearn.model_selection import train_test_split, cross_val_score, RepeatedKFold,GridSearchCV\n",
        "from sklearn.tree            import DecisionTreeRegressor\n",
        "from sklearn.metrics         import mean_squared_error\n",
        "from tqdm                    import tqdm\n",
        "\n",
        "import matplotlib.ticker as mticker           # Optional: you can print out y axis labels as dollars.\n",
        "\n",
        "# globals\n",
        "\n",
        "random_state = 42\n",
        "\n",
        "# utility code\n",
        "\n",
        "# Completely optional:  Format y-axis labels as dollars with commas\n",
        "def dollar_format(x, pos):\n",
        "    return f'${x:,.0f}'\n",
        "\n",
        "def format_time(seconds):\n",
        "\n",
        "    # Convert seconds to hours, minutes, and remaining seconds\n",
        "    hours = int(seconds // 3600)\n",
        "    minutes = int((seconds % 3600) // 60)\n",
        "    remaining_seconds = seconds % 60\n",
        "\n",
        "    # Return a formatted string\n",
        "    if hours == 0 and minutes == 0:\n",
        "        return f\"{seconds:.2f}s\"\n",
        "    elif hours == 0:\n",
        "        return f\"{minutes}m {remaining_seconds:.2f}s\"\n",
        "\n",
        "    return f\"{hours}h {minutes}m {remaining_seconds:.2f}s\""
      ]
    },
    {
      "cell_type": "markdown",
      "metadata": {
        "id": "QGpx0HhbMtWL"
      },
      "source": [
        "### Load the Ames Housing Dataset  \n",
        "\n",
        "The code cell below will load the dataset for you.  This is the same dataset we used for Homework 05.\n",
        "\n",
        "> **Notice** that this code includes a useful optimization: **before downloading, it first\n",
        "checks whether the files already exist.** This is a essential step when working with large datasets or when building deep learning models, where training can span hours or even days. By reusing previously downloaded files or saved models, you can avoid unnecessary work and significantly speed up your workflow.\n",
        "\n",
        "For a detailed description of the dataset features, please refer to the **Appendix** in Homework 05."
      ]
    },
    {
      "cell_type": "code",
      "execution_count": 3,
      "metadata": {
        "id": "1qb4ttpcMtWL",
        "outputId": "0709cecd-e2d1-44c9-8e61-c89f81c9448c",
        "colab": {
          "base_uri": "https://localhost:8080/"
        }
      },
      "outputs": [
        {
          "output_type": "stream",
          "name": "stdout",
          "text": [
            "Dataset files not found. Downloading...\n",
            "Files downloaded and extracted successfully.\n",
            "Training and testing datasets loaded successfully.\n"
          ]
        }
      ],
      "source": [
        "\n",
        "data_dir = \"Ames_Dataset\"                              # Directory where files will be stored\n",
        "\n",
        "# Check if one of the files exists; if not, download and extract the zip file\n",
        "\n",
        "if not os.path.exists( os.path.join(data_dir, \"X_train.csv\") ):\n",
        "    print(\"Dataset files not found. Downloading...\")\n",
        "    zip_url = \"https://www.cs.bu.edu/fac/snyder/cs505/Data/ames_housing.zip\"\n",
        "    try:\n",
        "        response = requests.get(zip_url)\n",
        "        response.raise_for_status()  # Raise an error for bad status codes\n",
        "        # Extract the zip file into the designated directory\n",
        "        with zipfile.ZipFile(io.BytesIO(response.content)) as zipf:\n",
        "            zipf.extractall(data_dir)\n",
        "        print(\"Files downloaded and extracted successfully.\")\n",
        "    except requests.exceptions.RequestException as e:\n",
        "        print(f\"Error downloading the file: {e}\")\n",
        "else:\n",
        "    print(\"Dataset files already exist. Skipping download.\")\n",
        "\n",
        "# Load the datasets\n",
        "X_train = pd.read_csv(os.path.join(data_dir, \"X_train.csv\"))\n",
        "X_test  = pd.read_csv(os.path.join(data_dir, \"X_test.csv\"))\n",
        "y_train = pd.read_csv(os.path.join(data_dir, \"y_train.csv\")).squeeze(\"columns\")\n",
        "y_test  = pd.read_csv(os.path.join(data_dir, \"y_test.csv\")).squeeze(\"columns\")\n",
        "\n",
        "print(\"Training and testing datasets loaded successfully.\")\n"
      ]
    },
    {
      "cell_type": "markdown",
      "metadata": {
        "id": "L6PFEAV8MtWM"
      },
      "source": [
        "## Prelude: Wrapper Function for DecisionTreeRegressor\n",
        "\n",
        "In the next cell, you'll find the code from the video notebook that wraps together the model, CV scoring, and tree visualization (though visualization is not used in this homework). We made a few minor modifications:\n",
        "\n",
        "- Expanded the list of parameters to include the full set with default values.\n",
        "- Employed `RepeatedKFold` to perform 5-fold CV repeated 10 times, yielding 50 MSE scores for averaging instead of just 5.\n",
        "- Set the default value for `random_state` to 42.\n",
        "- Set the default value for the `visualize` parameter to `False`."
      ]
    },
    {
      "cell_type": "code",
      "execution_count": 4,
      "metadata": {
        "id": "A9GbfzJqMtWM"
      },
      "outputs": [],
      "source": [
        "# Already provided: the code for run_decision_tree_regressor from the video notebook for week 6 with changes as noted\n",
        "\n",
        "# Wrapper around DecisionTreeRegressor with cross-validation\n",
        "def run_decision_tree_regressor(X_train,\n",
        "                                y_train,\n",
        "                                criterion                = 'squared_error',  # Default parameters for DecisionTreeRegressor\n",
        "                                splitter                 = 'best',\n",
        "                                max_depth                = None,\n",
        "                                min_samples_split        = 2,\n",
        "                                min_samples_leaf         = 1,\n",
        "                                min_weight_fraction_leaf = 0.0,\n",
        "                                max_features             = None,\n",
        "                                random_state             = 42,               # Not the default, but we'll use it consistently for reproducibility\n",
        "                                max_leaf_nodes           = None,\n",
        "                                min_impurity_decrease    = 0.0,\n",
        "                                ccp_alpha                = 0.0,\n",
        "                                n_jobs                   = -1,               # Additional parameters for CV and display of plot and results\n",
        "                                visualize                = False\n",
        "                               ):\n",
        "\n",
        "    # Initialize the DecisionTreeRegressor\n",
        "    decision_tree_model = DecisionTreeRegressor(criterion                = criterion,\n",
        "                                                splitter                 = splitter,\n",
        "                                                max_depth                = max_depth,\n",
        "                                                min_samples_split        = min_samples_split,\n",
        "                                                min_samples_leaf         = min_samples_leaf,\n",
        "                                                min_weight_fraction_leaf = min_weight_fraction_leaf,\n",
        "                                                max_features             = max_features,\n",
        "                                                random_state             = random_state,\n",
        "                                                max_leaf_nodes           = max_leaf_nodes,\n",
        "                                                min_impurity_decrease    = min_impurity_decrease,\n",
        "                                                ccp_alpha                = ccp_alpha\n",
        "                                               )\n",
        "\n",
        "    repeated_cv = RepeatedKFold(random_state=42)    # This will perform 5-fold CV 10 times and return 50 floats instead of 5 as before\n",
        "\n",
        "    # Perform cross-validation and return mean CV MSE\n",
        "    neg_mse_scores = cross_val_score(decision_tree_model,\n",
        "                                     X_train, y_train,\n",
        "                                     scoring='neg_mean_squared_error',\n",
        "                                     cv=repeated_cv,\n",
        "                                     n_jobs=n_jobs)\n",
        "\n",
        "    mean_cv_mse = -np.mean(neg_mse_scores)  # Convert negative MSE back to positive\n",
        "\n",
        "    # Train the model on the full training set for visualization purposes\n",
        "    if visualize:\n",
        "        decision_tree_model.fit(X_train, y_train)  # Train on full training data for visualization\n",
        "        plt.figure(figsize=(12, 6))\n",
        "        plot_tree(decision_tree_model, feature_names=feature_names, filled=True, rounded=True, precision=4)\n",
        "        plt.title(f\"Decision Tree Structure (max_depth={max_depth})\")\n",
        "        plt.show()\n",
        "\n",
        "    return mean_cv_mse\n",
        ""
      ]
    },
    {
      "cell_type": "markdown",
      "metadata": {
        "id": "aNT_R8H7MtWN"
      },
      "source": [
        "## Problem One: Controlling the Decision Tree's Shape with `max_depth` and `max_leaf_nodes`\n",
        "\n",
        "In this problem, you will explore how the structure of a decision tree impacts its performance, using the cross-validated RMSE as the evaluation metric. Answer the following questions:\n",
        "\n",
        "**A.** How does the baseline model (with default parameters, except for `random_state=42`) perform on the dataset?\n",
        "\n",
        "**B.** When adjusting only the `max_depth` parameter, which depth produces the lowest CV RMSE?\n",
        "\n",
        "**C.** When adjusting only the `max_leaf_nodes` parameter, which value results in the best performance?\n",
        "\n",
        "**D.** Can a combination of `max_depth` and `max_leaf_nodes` yield a lower CV RMSE than optimizing either parameter independently?\n",
        "\n",
        "For parts **B** and **C**, you will modify the code from the video notebook with minimal changes. For part **D**, you'll use `GridSearchCV` to systematically evaluate various combinations of these two parameters."
      ]
    },
    {
      "cell_type": "markdown",
      "metadata": {
        "id": "4uOb7WzCMtWN"
      },
      "source": [
        "### Part 1.A\n",
        "\n",
        "In the next cell, use `run_decision_tree_regressor` to establish a baseline CV RMSE score for the **training set.** Keep all the parameters at their default.\n",
        "\n",
        "Note: Make sure you report the RMSE; `run_decision_tree_regressor` returns the MSE."
      ]
    },
    {
      "cell_type": "code",
      "execution_count": 5,
      "metadata": {
        "id": "MLAFuC9UMtWN"
      },
      "outputs": [],
      "source": [
        "# Your code here\n",
        "\n",
        "\n",
        "# Wrapper around DecisionTreeRegressor with cross-validation\n",
        "def run_decision_tree_regressor(X_train,\n",
        "                                y_train,\n",
        "                                criterion                = 'squared_error',\n",
        "                                splitter                 = 'best',\n",
        "                                max_depth                = None,\n",
        "                                min_samples_split        = 2,\n",
        "                                min_samples_leaf         = 1,\n",
        "                                min_weight_fraction_leaf = 0.0,\n",
        "                                max_features             = None,\n",
        "                                random_state             = 42,\n",
        "                                max_leaf_nodes           = None,\n",
        "                                min_impurity_decrease    = 0.0,\n",
        "                                ccp_alpha                = 0.0,\n",
        "                                n_jobs                   = -1,\n",
        "                                visualize                = False,\n",
        "                                feature_names            = None\n",
        "                               ):\n",
        "    # Initialize the DecisionTreeRegressor\n",
        "    decision_tree_model = DecisionTreeRegressor(criterion                = criterion,\n",
        "                                                splitter                 = splitter,\n",
        "                                                max_depth                = max_depth,\n",
        "                                                min_samples_split        = min_samples_split,\n",
        "                                                min_samples_leaf         = min_samples_leaf,\n",
        "                                                min_weight_fraction_leaf = min_weight_fraction_leaf,\n",
        "                                                max_features             = max_features,\n",
        "                                                random_state             = random_state,\n",
        "                                                max_leaf_nodes           = max_leaf_nodes,\n",
        "                                                min_impurity_decrease    = min_impurity_decrease,\n",
        "                                                ccp_alpha                = ccp_alpha)\n",
        "\n",
        "    repeated_cv = RepeatedKFold(random_state=42)\n",
        "\n",
        "    # Perform cross-validation and return mean CV RMSE\n",
        "    neg_mse_scores = cross_val_score(decision_tree_model,\n",
        "                                     X_train, y_train,\n",
        "                                     scoring='neg_mean_squared_error',\n",
        "                                     cv=repeated_cv,\n",
        "                                     n_jobs=n_jobs)\n",
        "\n",
        "    mean_cv_rmse = np.sqrt(-np.mean(neg_mse_scores))  # Convert to RMSE\n",
        "\n",
        "    # Train the model on the full training set for visualization purposes\n",
        "    if visualize:\n",
        "        decision_tree_model.fit(X_train, y_train)\n",
        "        plt.figure(figsize=(12, 6))\n",
        "        plot_tree(decision_tree_model, feature_names=feature_names, filled=True, rounded=True, precision=4)\n",
        "        plt.title(f\"Decision Tree Structure (max_depth={max_depth})\")\n",
        "        plt.show()\n",
        "\n",
        "    return mean_cv_rmse\n"
      ]
    },
    {
      "cell_type": "code",
      "execution_count": 6,
      "metadata": {
        "id": "b8aVIvdaMtWO",
        "outputId": "8bf86de9-249d-4b70-d2a5-200717c1eabe",
        "colab": {
          "base_uri": "https://localhost:8080/"
        }
      },
      "outputs": [
        {
          "output_type": "stream",
          "name": "stdout",
          "text": [
            "Baseline CV RMSE: 38773.1748\n"
          ]
        }
      ],
      "source": [
        "baseline_cv_rmse = run_decision_tree_regressor(X_train, y_train)\n",
        "print(f\"Baseline CV RMSE: {baseline_cv_rmse:.4f}\")\n"
      ]
    },
    {
      "cell_type": "markdown",
      "metadata": {
        "id": "pH1iu0F5MtWO"
      },
      "source": [
        "### Problem 1.A Graded Answer"
      ]
    },
    {
      "cell_type": "code",
      "execution_count": 7,
      "metadata": {
        "id": "KSTfMydGMtWP",
        "outputId": "bc0452cc-284a-402c-8ef9-0c47f3a10db3",
        "colab": {
          "base_uri": "https://localhost:8080/"
        }
      },
      "outputs": [
        {
          "output_type": "stream",
          "name": "stdout",
          "text": [
            "a1a = $38,773.17\n"
          ]
        }
      ],
      "source": [
        "# TODO:  Set the variable to the baseline CV RMSE score\n",
        "\n",
        "a1a = 38773.1748                                # Just to get it to run without error; your answer here\n",
        "\n",
        "print(f'a1a = ${a1a:,.2f}')"
      ]
    },
    {
      "cell_type": "markdown",
      "metadata": {
        "id": "JFEaRkrmMtWP"
      },
      "source": [
        "### Part 1.B\n",
        "\n",
        "In the next cell, adapt the code from the video notebook to plot CV RMSE vs max_depth with the following modifications:\n",
        "\n",
        "- Determine an appropriate range of max_depth values that zero in on the optimum. If the best value occurs at either end of your range, it indicates you may not have captured the true minimum—expand your range accordingly.\n",
        "- Update your plot labels and printout to reflect that you are reporting the root mean square error (RMSE) in dollars. Use the following line in your plotting code to format the Y-axis labels in dollars:\n",
        "  ```python\n",
        "  plt.gca().yaxis.set_major_formatter(mticker.FuncFormatter(dollar_format))\n",
        "  ```\n",
        "\n",
        "**Note:** The code in the video notebook may not always use default settings. For this experiment, ensure that all parameters except `max_depth` are set to their default values."
      ]
    },
    {
      "cell_type": "code",
      "execution_count": 8,
      "metadata": {
        "id": "hTdVAB9YMtWP",
        "outputId": "d043aae2-fa6c-4014-d834-d6e7cc62a1b0",
        "colab": {
          "base_uri": "https://localhost:8080/",
          "height": 462
        }
      },
      "outputs": [
        {
          "output_type": "stream",
          "name": "stderr",
          "text": [
            "100%|██████████| 10/10 [00:13<00:00,  1.37s/it]\n"
          ]
        },
        {
          "output_type": "display_data",
          "data": {
            "text/plain": [
              "<Figure size 600x400 with 1 Axes>"
            ],
            "image/png": "[encoded data removed]"
          },
          "metadata": {}
        },
        {
          "output_type": "stream",
          "name": "stdout",
          "text": [
            "Minimum CV RMSE 36890.02 found at max_depth = 6\n",
            "Execution Time: 13.92 seconds\n"
          ]
        }
      ],
      "source": [
        "# Cut and paste the code from the video notebook to plot and find the best max_depth\n",
        "\n",
        "\n",
        "# Function to format y-axis as dollars\n",
        "def dollar_format(x, pos):\n",
        "    return f\"${x:,.0f}\"\n",
        "\n",
        "# Record start time\n",
        "start = time.time()\n",
        "\n",
        "param = 'max_depth'\n",
        "\n",
        "# Test a range of max_depth values\n",
        "parameter_list = range(2, 12)\n",
        "\n",
        "# Store RMSE results\n",
        "RMSEs = []\n",
        "\n",
        "for d in tqdm(parameter_list):\n",
        "    rmse = run_decision_tree_regressor(X_train, y_train,\n",
        "                                       max_depth=d,\n",
        "                                        max_features=None,\n",
        "                                             min_samples_split=2,\n",
        "                                             min_samples_leaf=1,\n",
        "                                             max_leaf_nodes=None,\n",
        "                                             criterion='squared_error',\n",
        "                                             ccp_alpha=0.0,\n",
        "                                       random_state=42,  # default random state\n",
        "                                       visualize=False)\n",
        "    RMSEs.append(rmse)\n",
        "\n",
        "# Find the minimum RMSE and its index\n",
        "min_RMSE_max_depth = min(RMSEs)\n",
        "min_index = RMSEs.index(min_RMSE_max_depth)\n",
        "\n",
        "# Plotting\n",
        "plt.figure(figsize=(6, 4))\n",
        "plt.title(\"Decision Tree Regressor: CV RMSE vs \" + param)\n",
        "plt.plot(parameter_list, RMSEs, marker='.')\n",
        "plt.scatter([parameter_list[min_index]], [min_RMSE_max_depth], marker='x', color='red')\n",
        "plt.xlabel(param)\n",
        "plt.ylabel(\"CV RMSE (Dollars)\")\n",
        "plt.grid()\n",
        "plt.gca().yaxis.set_major_formatter(mticker.FuncFormatter(dollar_format))\n",
        "plt.show()\n",
        "\n",
        "# Output the minimum RMSE and the best max_depth\n",
        "print(f\"Minimum CV RMSE {min_RMSE_max_depth:.2f} found at max_depth = {parameter_list[min_index]}\")\n",
        "\n",
        "# Record end time and execution time\n",
        "end = time.time()\n",
        "print(f\"Execution Time: {end - start:.2f} seconds\")\n",
        "\n",
        "\n"
      ]
    },
    {
      "cell_type": "markdown",
      "metadata": {
        "id": "qYtGn8ehMtWQ"
      },
      "source": [
        "### Problem 1.B Graded Answer"
      ]
    },
    {
      "cell_type": "code",
      "execution_count": 9,
      "metadata": {
        "id": "nc8Mb_wsMtWQ",
        "outputId": "cc2f1c87-9deb-48eb-d9d2-0b50e8d06919",
        "colab": {
          "base_uri": "https://localhost:8080/"
        }
      },
      "outputs": [
        {
          "output_type": "stream",
          "name": "stdout",
          "text": [
            "a1b = 6\n"
          ]
        }
      ],
      "source": [
        "# TODO:  Set the variable to the depth found which results in the lowest CV RMSE score\n",
        "\n",
        "a1b = 6\n",
        "\n",
        "print(f'a1b = {a1b}')"
      ]
    },
    {
      "cell_type": "markdown",
      "metadata": {
        "id": "yNjYpRRvMtWQ"
      },
      "source": [
        "### Part 1.C\n",
        "\n",
        "Now, perform the same experiment as in Part 1.B—but this time, focus on tuning the `max_leaf_nodes` parameter.\n",
        "\n",
        "**Notes:**\n",
        "\n",
        "- Ensure that `max_size` is set to `None` so that you can isolate the effect of `max_leaf_nodes` on limiting the size of the tree.\n",
        "- The range of values for `max_leaf_nodes` will differ considerably from that used for `max_depth`. Experiment with a wide range until you find a minimum that does not occur at either end of your tested interval.\n",
        "\n",
        "Remember to apply the same modifications as in Part 1.B, including updating your plot labels and printout to reflect that the metric is reported in dollars (using the line below to format the y-axis):\n",
        "\n",
        "```python\n",
        "plt.gca().yaxis.set_major_formatter(mticker.FuncFormatter(dollar_format))\n",
        "```\n",
        "\n",
        "After generating your plot and results, provide your answer for the graded question."
      ]
    },
    {
      "cell_type": "code",
      "execution_count": 10,
      "metadata": {
        "id": "rzlXFU9QMtWQ",
        "outputId": "4ea3713d-553a-4588-e2af-6b9759d02fc1",
        "colab": {
          "base_uri": "https://localhost:8080/",
          "height": 462
        }
      },
      "outputs": [
        {
          "output_type": "stream",
          "name": "stderr",
          "text": [
            "100%|██████████| 45/45 [00:55<00:00,  1.23s/it]\n"
          ]
        },
        {
          "output_type": "display_data",
          "data": {
            "text/plain": [
              "<Figure size 600x400 with 1 Axes>"
            ],
            "image/png": "[encoded data removed]"
          },
          "metadata": {}
        },
        {
          "output_type": "stream",
          "name": "stdout",
          "text": [
            "Minimum CV RMSE 37072.77 found at max_leaf_nodes = 49\n",
            "Execution Time: 55.52 seconds\n"
          ]
        }
      ],
      "source": [
        "\n",
        "\n",
        "# Function to format y-axis as dollars\n",
        "def dollar_format(x, pos):\n",
        "    return f\"${x:,.0f}\"\n",
        "\n",
        "# Record beginning time\n",
        "start = time.time()\n",
        "\n",
        "param = 'max_leaf_nodes'\n",
        "\n",
        "# Wide range of max_leaf_nodes values to test\n",
        "parameter_list = range(5, 50)\n",
        "\n",
        "# Store RMSE results\n",
        "RMSEs = []\n",
        "\n",
        "for mln in tqdm(parameter_list):\n",
        "    rmse = run_decision_tree_regressor(X_train, y_train,\n",
        "                                       max_depth=None,  # Set to None as instructed\n",
        "                                       max_features=None,  # Default\n",
        "                                       min_samples_split=2,  # Default\n",
        "                                       min_samples_leaf=1,  # Default\n",
        "                                       max_leaf_nodes=mln,  # Parameter under test\n",
        "                                       criterion='squared_error',  # Default\n",
        "                                       ccp_alpha=0.0,  # Default\n",
        "                                       random_state=42,  # Consistent for reproducibility\n",
        "                                       visualize=False)\n",
        "    RMSEs.append(rmse)\n",
        "\n",
        "# Find the minimum RMSE and its index\n",
        "min_RMSE_max_leaf_nodes = min(RMSEs)\n",
        "min_index = RMSEs.index(min_RMSE_max_leaf_nodes)\n",
        "\n",
        "# Plotting\n",
        "plt.figure(figsize=(6, 4))\n",
        "plt.title(\"Decision Tree Regressor: CV RMSE vs \" + param)\n",
        "plt.plot(parameter_list, RMSEs, marker='.')\n",
        "plt.scatter([parameter_list[min_index]], [min_RMSE_max_leaf_nodes], marker='x', color='red')\n",
        "plt.xlabel(param)\n",
        "plt.ylabel(\"CV RMSE (Dollars)\")\n",
        "plt.grid()\n",
        "plt.gca().yaxis.set_major_formatter(mticker.FuncFormatter(dollar_format))\n",
        "plt.show()\n",
        "\n",
        "# Output the minimum RMSE and the best max_leaf_nodes\n",
        "print(f\"Minimum CV RMSE {min_RMSE_max_leaf_nodes:.2f} found at max_leaf_nodes = {parameter_list[min_index]}\")\n",
        "\n",
        "# Record end time and execution time\n",
        "end = time.time()\n",
        "print(f\"Execution Time: {end - start:.2f} seconds\")\n"
      ]
    },
    {
      "cell_type": "markdown",
      "metadata": {
        "id": "baogIWiMMtWR"
      },
      "source": [
        "### Problem 1.C Graded Answer"
      ]
    },
    {
      "cell_type": "code",
      "execution_count": 11,
      "metadata": {
        "id": "1Eka5EyoMtWR",
        "outputId": "5f6bfe48-2afd-4ca5-ddde-37d81b137edc",
        "colab": {
          "base_uri": "https://localhost:8080/"
        }
      },
      "outputs": [
        {
          "output_type": "stream",
          "name": "stdout",
          "text": [
            "a1c = 1\n"
          ]
        }
      ],
      "source": [
        "# TODO:  Which method provided the best CV score?\n",
        "\n",
        "a1c =  1 if min_RMSE_max_depth < min_RMSE_max_leaf_nodes else 2                                     # Answer should be 1 = max_depth or 2 = max_leaf_nodes\n",
        "\n",
        "print(f'a1c = {a1c}')"
      ]
    },
    {
      "cell_type": "markdown",
      "metadata": {
        "id": "Ii2U__DiMtWS"
      },
      "source": [
        "### Part 1.D\n",
        "\n",
        "Limiting the size of a decision tree using `max_depth` (depth) and `max_leaf_nodes` (width) affects the model in different ways. A natural question arises: is there a combination of these two parameters that yields a better score than tuning either one alone?\n",
        "\n",
        "Because the tradeoff between depth and width might not be clearly captured in a 2D plot, we'll use `GridSearchCV` to systematically explore combinations of values.\n",
        "\n",
        "**What to Do:**\n",
        "\n",
        "- In the next cell, write code that uses `GridSearchCV` to search over a grid of values for both max_depth and max_leaf_nodes.\n",
        "- Use the ranges you explored in Parts 1.B and 1.C, but also include `None` (e.g., `[None] + list(range(2, 18))`) to test whether the default setting is optimal.\n",
        "- This grid search may take a while to run, depending on your computing resources.\n",
        "- After the grid search completes, print out the top 10 results. These results will automatically include the MSE and RMSE scores.\n",
        "- Finally, display the top 10 parameter pairs (combinations of `max_depth` and `max_leaf_nodes`) that produced the best scores.\n",
        "\n",
        "**NOTE: Make sure you use `RepeatedKFold` for all experiments going forward, unless instructed otherwise.**\n",
        "\n",
        "Before you start, please review the `GridSearchCV` documentation if you haven't already done so."
      ]
    },
    {
      "cell_type": "code",
      "execution_count": 12,
      "metadata": {
        "id": "5XzSZmyJMtWS",
        "outputId": "89789df7-edbb-4870-e3fb-d7e969b55b21",
        "colab": {
          "base_uri": "https://localhost:8080/"
        }
      },
      "outputs": [
        {
          "output_type": "stream",
          "name": "stdout",
          "text": [
            "\n",
            "Top 10 parameter combinations with the best CV RMSE:\n",
            "\n",
            "    param_max_depth param_max_leaf_nodes  mean_test_rmse\n",
            "230               6                 None    36890.015327\n",
            "367               8                   49    37066.496942\n",
            "413               9                   49    37072.441770\n",
            "781              17                   49    37072.773465\n",
            "735              16                   49    37072.773465\n",
            "459              10                   49    37072.773465\n",
            "505              11                   49    37072.773465\n",
            "45             None                   49    37072.773465\n",
            "551              12                   49    37072.773465\n",
            "689              15                   49    37072.773465\n",
            "\n",
            "Best RMSE: 36890.02 found at parameters: {'max_depth': 6, 'max_leaf_nodes': None}\n",
            "\n",
            "Execution Time: 789.90 seconds\n"
          ]
        }
      ],
      "source": [
        "# Your code here\n",
        "\n",
        "# Record start time\n",
        "start_time = time.time()\n",
        "\n",
        "# Define the parameter grid\n",
        "param_grid = {\n",
        "    'max_depth': [None] + list(range(2, 18)),\n",
        "    'max_leaf_nodes': [None] + list(range(5, 50))\n",
        "}\n",
        "\n",
        "# Initialize the DecisionTreeRegressor\n",
        "tree = DecisionTreeRegressor(random_state=42)\n",
        "\n",
        "# Use RepeatedKFold for more robust cross-validation\n",
        "repeated_cv = RepeatedKFold(n_splits=5, n_repeats=10, random_state=42)\n",
        "\n",
        "# Perform GridSearchCV\n",
        "grid_search = GridSearchCV(\n",
        "    estimator=tree,\n",
        "    param_grid=param_grid,\n",
        "    scoring='neg_mean_squared_error',\n",
        "    cv=repeated_cv,\n",
        "    n_jobs=-1\n",
        ")\n",
        "\n",
        "# Fit the model\n",
        "grid_search.fit(X_train, y_train)\n",
        "\n",
        "# Extract and process the results\n",
        "results = pd.DataFrame(grid_search.cv_results_)\n",
        "results['mean_test_rmse'] = np.sqrt(-results['mean_test_score'])  # Convert to RMSE\n",
        "results = results.sort_values(by='mean_test_rmse')\n",
        "\n",
        "# Display the top 10 results\n",
        "top_10 = results.head(10)[['param_max_depth', 'param_max_leaf_nodes', 'mean_test_rmse']]\n",
        "print(\"\\nTop 10 parameter combinations with the best CV RMSE:\\n\")\n",
        "print(top_10)\n",
        "\n",
        "# Output the best parameters and RMSE\n",
        "best_params = grid_search.best_params_\n",
        "best_rmse = np.sqrt(-grid_search.best_score_)\n",
        "print(f\"\\nBest RMSE: {best_rmse:.2f} found at parameters: {best_params}\")\n",
        "\n",
        "# Execution time\n",
        "execution_time = time.time() - start_time\n",
        "print(f\"\\nExecution Time: {execution_time:.2f} seconds\")\n"
      ]
    },
    {
      "cell_type": "markdown",
      "metadata": {
        "id": "h43mlO6kMtWS"
      },
      "source": [
        "### Problem 1.D Graded Answer"
      ]
    },
    {
      "cell_type": "code",
      "execution_count": 13,
      "metadata": {
        "id": "ImEv130jMtWT",
        "outputId": "e8035b14-9751-4d60-bf7f-a0c2c6238285",
        "colab": {
          "base_uri": "https://localhost:8080/"
        }
      },
      "outputs": [
        {
          "output_type": "stream",
          "name": "stdout",
          "text": [
            "a1d = $36,890.02\n"
          ]
        }
      ],
      "source": [
        "# TODO:  One of these three experiments determined which parameter choices results in the best (lowest) CV RMSE score\n",
        "#        Set the variable to this best score found so far\n",
        "\n",
        "a1d =  36890.02                                # Just to get it to run without error; your answer here\n",
        "\n",
        "print(f'a1d = ${a1d:,.2f}')"
      ]
    },
    {
      "cell_type": "markdown",
      "metadata": {
        "id": "-WqUCWMZMtWT"
      },
      "source": [
        "## Problem Two: Adding Feature Selection and Randomness with max_features\n",
        "\n",
        "In this problem, you will build on the best model from Problem One by exploring the effect of the `max_features` parameter. This parameter does two key things:\n",
        "\n",
        "- It performs variable selection at the level of each split by considering only a subset of features (we will revisit this idea in Week 9).\n",
        "- It randomly chooses this subset at each split, encouraging the model to explore different parts of the feature space. This randomness can improve performance, especially when used with ensemble methods (which we will study next week).\n",
        "\n",
        "What to Do:\n",
        "\n",
        "- Use the best model from Problem One and vary only the `max_features` parameter.\n",
        "- Experiment with a range of values from 1 up to the total number of features in the dataset.\n",
        "- Print out the plot and the results, and answer the graded question as usual.\n",
        "- Do not use `GridSearchCV` for this problem.\n",
        "- Do not reset all parameters to their defaults; keep the best settings from Problem One and only change `max_features`."
      ]
    },
    {
      "cell_type": "code",
      "execution_count": 14,
      "metadata": {
        "id": "8OSr1d1CMtWT"
      },
      "outputs": [],
      "source": [
        "best_model_params = {  # Define the best settings from Problem One\n",
        "    'criterion': 'squared_error',\n",
        "    'splitter': 'best',\n",
        "    'max_depth': None,\n",
        "    'min_samples_split': 2,\n",
        "    'min_samples_leaf': 1,\n",
        "    'random_state': 42\n",
        "}\n",
        "\n",
        "def run_decision_tree_regressor_with_max_features(X_train,\n",
        "                                                  y_train,\n",
        "                                                  best_model_params,\n",
        "                                                  visualize=False):\n",
        "    best_max_features = None\n",
        "    best_score = float('inf')\n",
        "    feature_range = range(1, X_train.shape[1] + 1)\n",
        "\n",
        "    results = {}\n",
        "    for max_features in feature_range:\n",
        "        model_params = best_model_params.copy()\n",
        "        model_params['max_features'] = max_features  # Only modify max_features\n",
        "\n",
        "        decision_tree_model = DecisionTreeRegressor(**model_params)\n",
        "\n",
        "        repeated_cv = RepeatedKFold(n_splits=5, n_repeats=10, random_state=42)\n",
        "        neg_mse_scores = cross_val_score(decision_tree_model, X_train, y_train,\n",
        "                                         scoring='neg_mean_squared_error', cv=repeated_cv, n_jobs=-1)\n",
        "        mean_cv_mse = -np.mean(neg_mse_scores)\n",
        "\n",
        "        results[max_features] = mean_cv_mse\n",
        "\n",
        "        if mean_cv_mse < best_score:\n",
        "            best_score = mean_cv_mse\n",
        "            best_max_features = max_features\n",
        "\n",
        "    print(\"Max Features vs. MSE:\")\n",
        "    for k, v in results.items():\n",
        "        print(f\"max_features={k}: MSE={v:.4f}\")\n",
        "\n",
        "    print(f\"Best max_features: {best_max_features} with MSE={best_score:.4f}\")\n",
        "\n",
        "    if visualize:\n",
        "        model_params['max_features'] = best_max_features\n",
        "        decision_tree_model = DecisionTreeRegressor(**model_params)\n",
        "        decision_tree_model.fit(X_train, y_train)\n",
        "        plt.figure(figsize=(12, 6))\n",
        "        plot_tree(decision_tree_model, filled=True, rounded=True, precision=4)\n",
        "        plt.title(f\"Decision Tree with max_features={best_max_features}\")\n",
        "        plt.show()\n",
        "\n",
        "    return best_score\n"
      ]
    },
    {
      "cell_type": "markdown",
      "metadata": {
        "id": "61P7iJv-MtWT"
      },
      "source": [
        "### Problem 2 Graded Answer"
      ]
    },
    {
      "cell_type": "code",
      "execution_count": 15,
      "metadata": {
        "id": "wEN4A-F_MtWT",
        "outputId": "eb33bfc6-2128-4db0-9899-051240c15cd8",
        "colab": {
          "base_uri": "https://localhost:8080/"
        }
      },
      "outputs": [
        {
          "output_type": "stream",
          "name": "stdout",
          "text": [
            "Max Features vs. MSE:\n",
            "max_features=1: MSE=2932464224.6812\n",
            "max_features=2: MSE=2692169485.8823\n",
            "max_features=3: MSE=2344603625.6781\n",
            "max_features=4: MSE=2044487684.8822\n",
            "max_features=5: MSE=2098046019.5002\n",
            "max_features=6: MSE=1996940893.9238\n",
            "max_features=7: MSE=1912987941.0333\n",
            "max_features=8: MSE=1921242749.6128\n",
            "max_features=9: MSE=1804101128.0711\n",
            "max_features=10: MSE=1725627960.8969\n",
            "max_features=11: MSE=1839554430.3305\n",
            "max_features=12: MSE=1804609595.9895\n",
            "max_features=13: MSE=1764341466.2371\n",
            "max_features=14: MSE=1758163098.0156\n",
            "max_features=15: MSE=1750424922.6915\n",
            "max_features=16: MSE=1741498396.7968\n",
            "max_features=17: MSE=1675375009.5863\n",
            "max_features=18: MSE=1630816389.7474\n",
            "max_features=19: MSE=1590686964.5345\n",
            "max_features=20: MSE=1601148352.9299\n",
            "max_features=21: MSE=1583182259.3739\n",
            "max_features=22: MSE=1578387844.8990\n",
            "max_features=23: MSE=1623112857.1164\n",
            "max_features=24: MSE=1617942964.6659\n",
            "max_features=25: MSE=1543412635.2193\n",
            "max_features=26: MSE=1565351435.4255\n",
            "max_features=27: MSE=1465445621.8928\n",
            "max_features=28: MSE=1608705516.4471\n",
            "max_features=29: MSE=1575655461.3984\n",
            "max_features=30: MSE=1615374266.5891\n",
            "max_features=31: MSE=1537459494.2176\n",
            "max_features=32: MSE=1492695960.6408\n",
            "max_features=33: MSE=1557647028.8109\n",
            "max_features=34: MSE=1549069766.3877\n",
            "max_features=35: MSE=1537316108.1045\n",
            "max_features=36: MSE=1520289784.5142\n",
            "max_features=37: MSE=1559919675.0700\n",
            "max_features=38: MSE=1588656051.3957\n",
            "max_features=39: MSE=1488026400.9547\n",
            "max_features=40: MSE=1558915588.1512\n",
            "max_features=41: MSE=1503766594.2855\n",
            "max_features=42: MSE=1524070129.2627\n",
            "max_features=43: MSE=1490372472.1534\n",
            "max_features=44: MSE=1559674517.8007\n",
            "max_features=45: MSE=1486683929.5716\n",
            "max_features=46: MSE=1472576649.9131\n",
            "max_features=47: MSE=1555682339.8682\n",
            "max_features=48: MSE=1523238921.4906\n",
            "max_features=49: MSE=1531289519.1957\n",
            "max_features=50: MSE=1507389985.5400\n",
            "max_features=51: MSE=1464322871.4572\n",
            "max_features=52: MSE=1476758921.2608\n",
            "max_features=53: MSE=1496749919.1962\n",
            "max_features=54: MSE=1574055171.5919\n",
            "max_features=55: MSE=1427553352.4792\n",
            "max_features=56: MSE=1435140896.0518\n",
            "max_features=57: MSE=1487067883.6206\n",
            "max_features=58: MSE=1502757274.8063\n",
            "max_features=59: MSE=1451914083.0811\n",
            "max_features=60: MSE=1451483901.3080\n",
            "max_features=61: MSE=1474320134.1418\n",
            "max_features=62: MSE=1483520608.2731\n",
            "max_features=63: MSE=1501416550.3221\n",
            "max_features=64: MSE=1524605437.7182\n",
            "max_features=65: MSE=1482333906.0180\n",
            "max_features=66: MSE=1490386772.3179\n",
            "max_features=67: MSE=1456204087.7124\n",
            "max_features=68: MSE=1515851960.4124\n",
            "max_features=69: MSE=1470260047.7852\n",
            "max_features=70: MSE=1427167603.6801\n",
            "max_features=71: MSE=1468532389.2666\n",
            "max_features=72: MSE=1477943410.6888\n",
            "max_features=73: MSE=1503359087.1396\n",
            "Best max_features: 70 with MSE=1427167603.6801\n"
          ]
        }
      ],
      "source": [
        "best_score = run_decision_tree_regressor_with_max_features(X_train, y_train, best_model_params)  # Store the function output\n"
      ]
    },
    {
      "cell_type": "code",
      "execution_count": 16,
      "metadata": {
        "id": "GchntpadMtWU",
        "outputId": "6294de84-9c00-4988-dccd-e8212569f3ce",
        "colab": {
          "base_uri": "https://localhost:8080/"
        }
      },
      "outputs": [
        {
          "output_type": "stream",
          "name": "stdout",
          "text": [
            "a2 = $37,777.87\n"
          ]
        }
      ],
      "source": [
        "# TODO:  This *should* have produced an improvement in the score. Assign the variable to this new, improved CV RMSE score\n",
        "\n",
        "a2 =  np.sqrt(best_score)                                # Just to get it to run without error; your answer here\n",
        "\n",
        "print(f'a2 = ${a2:,.2f}')"
      ]
    },
    {
      "cell_type": "markdown",
      "metadata": {
        "id": "Atr42uX2MtWU"
      },
      "source": [
        "## Problem Three: Controlling Node Splitting with min_samples_split\n",
        "\n",
        "In this problem, you will investigate how the min_samples_split parameter affects your decision tree’s performance. Using the best model configuration obtained from Problems One and Two, vary only the `min_samples_split` parameter while keeping all other parameters fixed.\n",
        "\n",
        "**What to Do:**\n",
        "\n",
        "- As before, experiment with different values of `min_samples_split`, starting with a lower bound of 2.\n",
        "- Plot the CV RMSE against the different values of `min_samples_split` and print out your results.\n",
        "- Do not use `GridSearchCV` for this experiment.\n",
        "- Make sure that only the `min_samples_split` parameter is varied; all other parameters should remain at the best settings you’ve found so far.\n",
        "- Finally, answer the graded question based on your findings.\n",
        ""
      ]
    },
    {
      "cell_type": "code",
      "execution_count": 17,
      "metadata": {
        "id": "do7cP4pqMtWU"
      },
      "outputs": [],
      "source": [
        "# Your code here\n",
        "best_model_params = {  # Define the best settings from Problem One\n",
        "    'criterion': 'squared_error',\n",
        "    'splitter': 'best',\n",
        "    'max_depth': None,\n",
        "    'min_samples_split': 2,\n",
        "    'min_samples_leaf': 1,\n",
        "    'random_state': 42\n",
        "}\n",
        "\n",
        "\n",
        "def run_decision_tree_regressor_with_min_samples_split(X_train,\n",
        "                                                        y_train,\n",
        "                                                        best_model_params,\n",
        "                                                        visualize=False):\n",
        "    best_min_samples_split = None\n",
        "    best_score = float('inf')\n",
        "    split_range = range(2, 21)  # Testing values from 2 to 20\n",
        "\n",
        "    results = {}\n",
        "    for min_samples_split in split_range:\n",
        "        model_params = best_model_params.copy()\n",
        "        model_params['min_samples_split'] = min_samples_split  # Only modify min_samples_split\n",
        "\n",
        "        decision_tree_model = DecisionTreeRegressor(**model_params)\n",
        "\n",
        "        repeated_cv = RepeatedKFold(n_splits=5, n_repeats=10, random_state=42)\n",
        "        neg_mse_scores = cross_val_score(decision_tree_model, X_train, y_train,\n",
        "                                         scoring='neg_mean_squared_error', cv=repeated_cv, n_jobs=-1)\n",
        "        mean_cv_mse = -np.mean(neg_mse_scores)\n",
        "\n",
        "        results[min_samples_split] = mean_cv_mse\n",
        "\n",
        "        if mean_cv_mse < best_score:\n",
        "            best_score = mean_cv_mse\n",
        "            best_min_samples_split = min_samples_split\n",
        "\n",
        "    print(\"Min Samples Split vs. MSE:\")\n",
        "    for k, v in results.items():\n",
        "        print(f\"min_samples_split={k}: MSE={v:.4f}\")\n",
        "\n",
        "    print(f\"Best min_samples_split: {best_min_samples_split} with MSE={best_score:.4f}\")\n",
        "\n",
        "    if visualize:\n",
        "        model_params['min_samples_split'] = best_min_samples_split\n",
        "        decision_tree_model = DecisionTreeRegressor(**model_params)\n",
        "        decision_tree_model.fit(X_train, y_train)\n",
        "        rmse_results = {k: np.sqrt(v) for k, v in results.items()}\n",
        "        plt.plot(rmse_results.keys(), rmse_results.values(), marker='o')\n",
        "        plt.xlabel('min_samples_split')\n",
        "        plt.ylabel('RMSE')\n",
        "        plt.figure(figsize=(12, 6))\n",
        "        plot_tree(decision_tree_model, filled=True, rounded=True, precision=4)\n",
        "        plt.title(f\"Decision Tree with min_samples_split={best_min_samples_split}\")\n",
        "        plt.show()\n",
        "\n",
        "    return best_score\n",
        "\n",
        "\n",
        "\n"
      ]
    },
    {
      "cell_type": "code",
      "execution_count": 18,
      "metadata": {
        "id": "FO5TvEJnMtWV",
        "outputId": "422e5976-4ee0-479f-aaa3-a85f524329b0",
        "colab": {
          "base_uri": "https://localhost:8080/"
        }
      },
      "outputs": [
        {
          "output_type": "stream",
          "name": "stdout",
          "text": [
            "Min Samples Split vs. MSE:\n",
            "min_samples_split=2: MSE=1503359087.1396\n",
            "min_samples_split=3: MSE=1501667948.2820\n",
            "min_samples_split=4: MSE=1469503432.9047\n",
            "min_samples_split=5: MSE=1437768479.1530\n",
            "min_samples_split=6: MSE=1456359943.3921\n",
            "min_samples_split=7: MSE=1440052615.1359\n",
            "min_samples_split=8: MSE=1380431877.1774\n",
            "min_samples_split=9: MSE=1344448548.5744\n",
            "min_samples_split=10: MSE=1396734132.8469\n",
            "min_samples_split=11: MSE=1384427470.6586\n",
            "min_samples_split=12: MSE=1354031605.2895\n",
            "min_samples_split=13: MSE=1388493753.4476\n",
            "min_samples_split=14: MSE=1315001665.9959\n",
            "min_samples_split=15: MSE=1341743613.5602\n",
            "min_samples_split=16: MSE=1350162311.3702\n",
            "min_samples_split=17: MSE=1366035506.9144\n",
            "min_samples_split=18: MSE=1343871990.5352\n",
            "min_samples_split=19: MSE=1329760168.7773\n",
            "min_samples_split=20: MSE=1316358915.0108\n",
            "Best min_samples_split: 14 with MSE=1315001665.9959\n"
          ]
        }
      ],
      "source": [
        "best_score = run_decision_tree_regressor_with_min_samples_split(X_train, y_train, best_model_params)  # Store the function output\n"
      ]
    },
    {
      "cell_type": "markdown",
      "metadata": {
        "id": "hti4YC2HMtWV"
      },
      "source": [
        "### Problem 3 Graded Answer"
      ]
    },
    {
      "cell_type": "code",
      "execution_count": 19,
      "metadata": {
        "id": "ON4wDCzuMtWV",
        "outputId": "1a70675b-f5e2-4e6a-a0df-44729578efe5",
        "colab": {
          "base_uri": "https://localhost:8080/"
        }
      },
      "outputs": [
        {
          "output_type": "stream",
          "name": "stdout",
          "text": [
            "a3 = $36,262.95\n"
          ]
        }
      ],
      "source": [
        "# TODO:  Assign the variable to this best CV RMSE score.\n",
        "\n",
        "a3 = np.sqrt(best_score)                               # Just to get it to run without error; your answer here\n",
        "\n",
        "print(f'a3 = ${a3:,.2f}')"
      ]
    },
    {
      "cell_type": "markdown",
      "metadata": {
        "id": "xcdssx1bMtWW"
      },
      "source": [
        "## **Problem Four: Fine-Tuning Your Model**\n",
        "\n",
        "Now that we have a solid understanding of how our parameters influence model performance, it’s time to refine our search. Instead of testing large parameter ranges blindly, we will **use insights from previous experiments** to focus on the most promising values—balancing accuracy with computational efficiency.\n",
        "\n",
        "### **Our Strategy**\n",
        "Rather than searching the entire parameter space, we aim to **narrow down** our grid search to ranges where the optimal model is most likely to be found. The goal is to **eliminate unlikely parameter values** while still thoroughly exploring regions of uncertainty. Consider these two plots:\n",
        "\n",
        "\n",
        "![Screenshot 2025-02-21 at 4.32.59 PM.png](attachment:290c722e-d32b-40fe-a11f-89abf2304b60.png)\n",
        "\n",
        "\n",
        "![Screenshot 2025-02-21 at 4.33.12 PM.png](attachment:c7e9469b-0e74-4fbe-91b7-40b0c4b802e4.png)\n",
        "\n",
        "For example:\n",
        "- In the first plot, there is a clear performance plateau, so searching outside the highlighted range is likely unnecessary.\n",
        "- In the second plot, the best region is less obvious, so we could not eliminate any part of the space from consideration.\n",
        "\n",
        "### **What to Do**\n",
        "- Using insights from **Problems One through Three**, select **refined parameter ranges** for the three key parameters.\n",
        "- Perform a **grid search** over these restricted ranges.\n",
        "- Print out the **top 10 results** as before.\n",
        "- Summarize your findings and answer the graded questions.\n"
      ]
    },
    {
      "cell_type": "code",
      "execution_count": 20,
      "metadata": {
        "id": "COkJoguYMtWW",
        "outputId": "6c91bc10-716a-48e9-a371-67d4b6466ae7",
        "colab": {
          "base_uri": "https://localhost:8080/",
          "height": 245
        }
      },
      "outputs": [
        {
          "output_type": "error",
          "ename": "NameError",
          "evalue": "name 'best_max_depth' is not defined",
          "traceback": [
            "\u001b[0;31m---------------------------------------------------------------------------\u001b[0m",
            "\u001b[0;31mNameError\u001b[0m                                 Traceback (most recent call last)",
            "\u001b[0;32m<ipython-input-20-470f9f0bd9c0>\u001b[0m in \u001b[0;36m<cell line: 0>\u001b[0;34m()\u001b[0m\n\u001b[1;32m      2\u001b[0m \u001b[0;31m# Define the refined parameter range based on previous results\u001b[0m\u001b[0;34m\u001b[0m\u001b[0;34m\u001b[0m\u001b[0m\n\u001b[1;32m      3\u001b[0m param_grid = {\n\u001b[0;32m----> 4\u001b[0;31m     \u001b[0;34m'max_depth'\u001b[0m\u001b[0;34m:\u001b[0m \u001b[0;34m[\u001b[0m\u001b[0mbest_max_depth\u001b[0m \u001b[0;34m-\u001b[0m \u001b[0;36m1\u001b[0m\u001b[0;34m,\u001b[0m \u001b[0mbest_max_depth\u001b[0m\u001b[0;34m,\u001b[0m \u001b[0mbest_max_depth\u001b[0m \u001b[0;34m+\u001b[0m \u001b[0;36m1\u001b[0m\u001b[0;34m]\u001b[0m\u001b[0;34m,\u001b[0m\u001b[0;34m\u001b[0m\u001b[0;34m\u001b[0m\u001b[0m\n\u001b[0m\u001b[1;32m      5\u001b[0m     \u001b[0;34m'max_features'\u001b[0m\u001b[0;34m:\u001b[0m \u001b[0;34m[\u001b[0m\u001b[0mbest_max_features\u001b[0m \u001b[0;34m-\u001b[0m \u001b[0;36m1\u001b[0m\u001b[0;34m,\u001b[0m \u001b[0mbest_max_features\u001b[0m\u001b[0;34m,\u001b[0m \u001b[0mbest_max_features\u001b[0m \u001b[0;34m+\u001b[0m \u001b[0;36m1\u001b[0m\u001b[0;34m]\u001b[0m\u001b[0;34m,\u001b[0m\u001b[0;34m\u001b[0m\u001b[0;34m\u001b[0m\u001b[0m\n\u001b[1;32m      6\u001b[0m     \u001b[0;34m'min_samples_split'\u001b[0m\u001b[0;34m:\u001b[0m \u001b[0;34m[\u001b[0m\u001b[0mbest_min_samples_split\u001b[0m \u001b[0;34m-\u001b[0m \u001b[0;36m1\u001b[0m\u001b[0;34m,\u001b[0m \u001b[0mbest_min_samples_split\u001b[0m\u001b[0;34m,\u001b[0m \u001b[0mbest_min_samples_split\u001b[0m \u001b[0;34m+\u001b[0m \u001b[0;36m1\u001b[0m\u001b[0;34m]\u001b[0m\u001b[0;34m\u001b[0m\u001b[0;34m\u001b[0m\u001b[0m\n",
            "\u001b[0;31mNameError\u001b[0m: name 'best_max_depth' is not defined"
          ]
        }
      ],
      "source": [
        "# Your code here\n",
        "# Define the refined parameter range based on previous results\n",
        "param_grid = {\n",
        "    'max_depth': [best_max_depth - 1, best_max_depth, best_max_depth + 1],\n",
        "    'max_features': [best_max_features - 1, best_max_features, best_max_features + 1],\n",
        "    'min_samples_split': [best_min_samples_split - 1, best_min_samples_split, best_min_samples_split + 1]\n",
        "}\n",
        "\n",
        "\n",
        "# Initialize Decision Tree model\n",
        "decision_tree = DecisionTreeRegressor(random_state=42)\n",
        "\n",
        "# Define cross-validation strategy\n",
        "cv = RepeatedKFold(n_splits=5, n_repeats=10, random_state=42)\n",
        "\n",
        "# Perform Grid Search\n",
        "grid_search = GridSearchCV(decision_tree, param_grid, scoring='neg_mean_squared_error', cv=cv, n_jobs=-1)\n",
        "grid_search.fit(X_train, y_train)\n",
        "\n",
        "# Get the best models\n",
        "best_results = sorted(zip(grid_search.cv_results_['mean_test_score'], grid_search.cv_results_['params']), reverse=True)[:10]\n",
        "\n",
        "# Print the top 10 models\n",
        "print(\"Top 10 Models (Sorted by MSE):\")\n",
        "for score, params in best_results:\n",
        "    print(f\"Params: {params}, MSE: {-score:.4f}\")\n",
        "\n",
        "# Best model\n",
        "print(\"\\nBest Model Found:\")\n",
        "print(grid_search.best_params_)\n",
        "print(f\"Best MSE: {-grid_search.best_score_:.4f}\")\n",
        "\n",
        "\n",
        "# Extract the best parameters\n",
        "best_params = grid_search.best_params_\n",
        "best_score = -grid_search.best_score_\n",
        "\n"
      ]
    },
    {
      "cell_type": "markdown",
      "metadata": {
        "id": "hykT6qt6MtWW"
      },
      "source": [
        "### Problem 4 Graded Answers"
      ]
    },
    {
      "cell_type": "code",
      "execution_count": null,
      "metadata": {
        "id": "so1hJA0qMtWW",
        "outputId": "83c35d43-d964-4420-ef60-205e8dec9689"
      },
      "outputs": [
        {
          "name": "stdout",
          "output_type": "stream",
          "text": [
            "a4a = Ellipsis\n"
          ]
        }
      ],
      "source": [
        "# TODO:  Set the variable to a triple of the three optimal parameter values found\n",
        "\n",
        "a4a = (best_params['max_depth'], best_params['max_features'], best_params['min_samples_split'])                           # Your answer should be a triple ( best max_depth, best max_features, best min_samples_split)\n",
        "\n",
        "print(f'a4a = {a4a}')"
      ]
    },
    {
      "cell_type": "code",
      "execution_count": null,
      "metadata": {
        "id": "2XFkt2ScMtWf",
        "outputId": "acf8b736-6da1-41c0-939e-3a9d942fdaf7"
      },
      "outputs": [
        {
          "name": "stdout",
          "output_type": "stream",
          "text": [
            "a4b = $0.00\n"
          ]
        }
      ],
      "source": [
        "# TODO:  Set to the best CV score found by the parameters given in the previous cell.\n",
        "\n",
        "a4b = best_score                                # Just to get it to run without error; your answer here\n",
        "\n",
        "print(f'a4b = ${a4b:,.2f}')"
      ]
    },
    {
      "cell_type": "markdown",
      "metadata": {
        "id": "Lae1ZY0uMtWg"
      },
      "source": [
        "## Appendix: Which DecisionTree parameters are most important?\n",
        "\n",
        "When first exploring  a complex model such as decision trees, it’s best to focus first on those parameters that most directly affect the shape of the tree and the method used for splitting nodes. Some parameters are more important than others, especially when first using a model. Here is an approximate ordering of the parameters from most significant to least. We will only experiment with the first 4 of these parameters in this homework.\n",
        "\n",
        "---\n",
        "\n",
        "1. **max_depth** (default: **None**)  \n",
        "   *Controls the maximum depth of the tree, which is crucial for managing overfitting and overall model complexity.*\n",
        "\n",
        "2. **max_leaf_nodes** (default: **None**)  \n",
        "   *An alternative to max_depth, this limits the number of leaf nodes and can be used to control tree size in a different way.*\n",
        "\n",
        "3. **max_features** (default: **None**)  \n",
        "   *Determines the maximum number of features considered when looking for the best split. Tuning this can affect the bias-variance trade-off.*\n",
        "\n",
        "4. **min_samples_split** (default: **2**)  \n",
        "   *Specifies the minimum number of samples required to split an internal node. It influences how “greedy” the tree is in creating splits.*\n",
        "\n",
        "---\n",
        "\n",
        "5. **criterion** (default: **'squared_error'**)  \n",
        "   *Chooses the function to measure the quality of a split (e.g., squared_error, absolute_error, etc.). Experimenting with this can reveal how different error metrics impact performance.*\n",
        "\n",
        "6. **splitter** (default: **'best'**)  \n",
        "   *Decides the strategy used to choose the split at each node (typically \"best\" or \"random\"). While its effect is subtler, exploring it can be educational.*\n",
        "\n",
        "7. **min_samples_leaf** (default: **1**)  \n",
        "   *Sets the minimum number of samples that must be present in a leaf. This parameter helps prevent creating leaves with very few samples, thus reducing overfitting.*\n",
        "\n",
        "\n",
        "8. **ccp_alpha** (default: **0.0**)  \n",
        "   *The complexity parameter for Minimal Cost-Complexity Pruning. It’s useful for understanding pruning techniques, though it’s a bit more advanced.*\n",
        "\n",
        "9. **min_impurity_decrease** (default: **0.0**)  \n",
        "   *A node will be split only if the split results in a decrease in impurity greater than or equal to this threshold. It provides another way to control overfitting.*\n",
        "\n",
        "10. **min_weight_fraction_leaf** (default: **0.0**)  \n",
        "    *Ensures that each leaf has a minimum weighted fraction of the total. It’s less commonly tuned but can be relevant when sample weights matter.*\n",
        "\n",
        "11. **random_state** (default: **None**)  \n",
        "    *Used only for reproducibility, traditionally as `random_state = 42`. It doesn’t affect the model’s learning, but ensures that results are consistent across runs. Set to `None` for more realistic random behavior typical for deployed systems.\n",
        "\n"
      ]
    }
  ],
  "metadata": {
    "kernelspec": {
      "display_name": "Python 3",
      "language": "python",
      "name": "python3"
    },
    "language_info": {
      "codemirror_mode": {
        "name": "ipython",
        "version": 3
      },
      "file_extension": ".py",
      "mimetype": "text/x-python",
      "name": "python",
      "nbconvert_exporter": "python",
      "pygments_lexer": "ipython3",
      "version": "3.12.1"
    },
    "colab": {
      "provenance": []
    }
  },
  "nbformat": 4,
  "nbformat_minor": 0
}